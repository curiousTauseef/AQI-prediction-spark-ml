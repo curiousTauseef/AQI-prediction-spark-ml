{
 "cells": [
  {
   "cell_type": "code",
   "execution_count": 2,
   "metadata": {
    "ExecuteTime": {
     "end_time": "2019-02-01T05:20:20.437629Z",
     "start_time": "2019-02-01T05:20:20.000666Z"
    }
   },
   "outputs": [],
   "source": [
    "import pandas as pd\n",
    "import numpy as np\n",
    "import warnings\n",
    "\n",
    "warnings.filterwarnings('ignore')"
   ]
  },
  {
   "cell_type": "markdown",
   "metadata": {},
   "source": [
    "## Imputation"
   ]
  },
  {
   "cell_type": "code",
   "execution_count": 21,
   "metadata": {
    "ExecuteTime": {
     "end_time": "2019-02-01T05:35:45.403606Z",
     "start_time": "2019-02-01T05:35:41.544978Z"
    }
   },
   "outputs": [],
   "source": [
    "data = pd.read_csv('data_10yrs_group_without_cbsa.csv')\n",
    "data = data.drop(columns=['aqi_pm25_speciation'])"
   ]
  },
  {
   "cell_type": "code",
   "execution_count": 4,
   "metadata": {
    "ExecuteTime": {
     "end_time": "2019-02-01T05:22:08.634824Z",
     "start_time": "2019-02-01T05:22:08.628054Z"
    }
   },
   "outputs": [],
   "source": [
    "counties = data.county_code.unique()"
   ]
  },
  {
   "cell_type": "code",
   "execution_count": 22,
   "metadata": {
    "ExecuteTime": {
     "end_time": "2019-02-01T05:35:47.071344Z",
     "start_time": "2019-02-01T05:35:47.068974Z"
    }
   },
   "outputs": [],
   "source": [
    "cols = data.columns[10:]"
   ]
  },
  {
   "cell_type": "code",
   "execution_count": 29,
   "metadata": {
    "ExecuteTime": {
     "end_time": "2019-02-01T05:36:59.948146Z",
     "start_time": "2019-02-01T05:36:59.339262Z"
    }
   },
   "outputs": [
    {
     "name": "stderr",
     "output_type": "stream",
     "text": [
      "/Users/liyingli/anaconda3/envs/ml/lib/python3.6/site-packages/numpy/lib/function_base.py:3250: RuntimeWarning: All-NaN slice encountered\n",
      "  r = func(a, **kwargs)\n"
     ]
    }
   ],
   "source": [
    "med = pd.DataFrame(columns=cols)\n",
    "for county, county_df in data.groupby('county_code'):\n",
    "    median = []\n",
    "    for col in cols:\n",
    "        median.append(np.nanmedian(county_df[col]))"
   ]
  },
  {
   "cell_type": "code",
   "execution_count": 32,
   "metadata": {
    "ExecuteTime": {
     "end_time": "2019-02-01T05:40:47.201032Z",
     "start_time": "2019-02-01T05:40:46.958013Z"
    }
   },
   "outputs": [],
   "source": [
    "medall = []\n",
    "for col in cols:\n",
    "    medall.append(np.nanmedian(data[col]))"
   ]
  },
  {
   "cell_type": "code",
   "execution_count": 41,
   "metadata": {
    "ExecuteTime": {
     "end_time": "2019-02-01T05:43:41.888475Z",
     "start_time": "2019-02-01T05:43:41.885543Z"
    }
   },
   "outputs": [],
   "source": [
    "fillvalues = dict([(col,m) for col,m in zip(cols,medall)])"
   ]
  },
  {
   "cell_type": "code",
   "execution_count": 42,
   "metadata": {
    "ExecuteTime": {
     "end_time": "2019-02-01T05:44:08.505770Z",
     "start_time": "2019-02-01T05:44:08.202156Z"
    }
   },
   "outputs": [],
   "source": [
    "datafill = data.fillna(value=fillvalues)"
   ]
  },
  {
   "cell_type": "code",
   "execution_count": 65,
   "metadata": {
    "ExecuteTime": {
     "end_time": "2019-02-01T06:57:12.418990Z",
     "start_time": "2019-02-01T06:57:12.388457Z"
    }
   },
   "outputs": [],
   "source": [
    "labels = ['good', 'moderate', 'Unhealthy for Sensitive Groups','Unhealthy','Very Unhealthy','Hazardous','disaster']\n",
    "bins = [0, 50, 100, 150, 200, 300, 500, 15000]\n",
    "datafill['label'] = pd.cut(data['max_aqi_tomorrow'], bins=bins, labels=labels)"
   ]
  },
  {
   "cell_type": "code",
   "execution_count": 66,
   "metadata": {
    "ExecuteTime": {
     "end_time": "2019-02-01T06:57:20.034557Z",
     "start_time": "2019-02-01T06:57:20.025206Z"
    }
   },
   "outputs": [
    {
     "data": {
      "text/plain": [
       "good                              465950\n",
       "moderate                          151661\n",
       "Unhealthy for Sensitive Groups     27571\n",
       "Unhealthy                           5361\n",
       "Very Unhealthy                       305\n",
       "disaster                             141\n",
       "Hazardous                             74\n",
       "Name: label, dtype: int64"
      ]
     },
     "execution_count": 66,
     "metadata": {},
     "output_type": "execute_result"
    }
   ],
   "source": [
    "datafill.label.value_counts()"
   ]
  },
  {
   "cell_type": "code",
   "execution_count": 67,
   "metadata": {
    "ExecuteTime": {
     "end_time": "2019-02-01T06:57:50.564805Z",
     "start_time": "2019-02-01T06:57:24.751008Z"
    }
   },
   "outputs": [],
   "source": [
    "datafill.to_csv('data_fillna.csv')"
   ]
  },
  {
   "cell_type": "code",
   "execution_count": 63,
   "metadata": {
    "ExecuteTime": {
     "end_time": "2019-02-01T06:06:22.118974Z",
     "start_time": "2019-02-01T06:06:21.593206Z"
    }
   },
   "outputs": [
    {
     "name": "stdout",
     "output_type": "stream",
     "text": [
      "<class 'pandas.core.frame.DataFrame'>\n",
      "RangeIndex: 684456 entries, 0 to 684455\n",
      "Data columns (total 55 columns):\n",
      "Unnamed: 0                           684456 non-null int64\n",
      "county_code                          684456 non-null int64\n",
      "city_name                            684456 non-null object\n",
      "year                                 684456 non-null int64\n",
      "month                                684456 non-null int64\n",
      "day                                  684456 non-null int64\n",
      "longitude                            684456 non-null float64\n",
      "latitude                             684456 non-null float64\n",
      "site_num                             684456 non-null int64\n",
      "dayofweek                            684456 non-null int64\n",
      "arithmetic_mean_co                   230708 non-null float64\n",
      "arithmetic_mean_no2                  317885 non-null float64\n",
      "arithmetic_mean_o3                   548028 non-null float64\n",
      "arithmetic_mean_pm10                 204514 non-null float64\n",
      "arithmetic_mean_pm25_frm             219586 non-null float64\n",
      "arithmetic_mean_pm25_nonfrm          146707 non-null float64\n",
      "arithmetic_mean_pm25_speciation      104781 non-null float64\n",
      "arithmetic_mean_pressure             180901 non-null float64\n",
      "arithmetic_mean_so2                  103784 non-null float64\n",
      "arithmetic_mean_temp                 418889 non-null float64\n",
      "arithmetic_mean_wind                 348776 non-null float64\n",
      "aqi_co                               230515 non-null float64\n",
      "aqi_no2                              317885 non-null float64\n",
      "aqi_o3                               548028 non-null float64\n",
      "aqi_pm10                             204514 non-null float64\n",
      "aqi_pm25_frm                         216954 non-null float64\n",
      "aqi_pm25_nonfrm                      144237 non-null float64\n",
      "aqi_so2                              103784 non-null float64\n",
      "first_max_value_co                   230708 non-null float64\n",
      "first_max_value_no2                  317885 non-null float64\n",
      "first_max_value_o3                   548028 non-null float64\n",
      "first_max_value_pm10                 204514 non-null float64\n",
      "first_max_value_pm25_frm             219586 non-null float64\n",
      "first_max_value_pm25_nonfrm          146707 non-null float64\n",
      "first_max_value_pm25_speciation      104781 non-null float64\n",
      "first_max_value_pressure             180901 non-null float64\n",
      "first_max_value_so2                  103784 non-null float64\n",
      "first_max_value_temp                 418889 non-null float64\n",
      "first_max_value_wind                 348776 non-null float64\n",
      "observation_count_co                 230708 non-null float64\n",
      "observation_count_no2                317885 non-null float64\n",
      "observation_count_o3                 548028 non-null float64\n",
      "observation_count_pm10               204514 non-null float64\n",
      "observation_count_pm25_frm           219586 non-null float64\n",
      "observation_count_pm25_nonfrm        146707 non-null float64\n",
      "observation_count_pm25_speciation    104781 non-null float64\n",
      "observation_count_pressure           180901 non-null float64\n",
      "observation_count_so2                103784 non-null float64\n",
      "observation_count_temp               418889 non-null float64\n",
      "observation_count_wind               348776 non-null float64\n",
      "max_aqi                              655094 non-null float64\n",
      "max_aqi_tomorrow                     654874 non-null float64\n",
      "max_aqi_yesterday                    654870 non-null float64\n",
      "max_aqi_before_yesterday             654645 non-null float64\n",
      "label                                651063 non-null category\n",
      "dtypes: category(1), float64(46), int64(7), object(1)\n",
      "memory usage: 282.6+ MB\n"
     ]
    }
   ],
   "source": [
    "data.info()"
   ]
  },
  {
   "cell_type": "markdown",
   "metadata": {
    "ExecuteTime": {
     "end_time": "2019-02-01T05:28:51.839194Z",
     "start_time": "2019-02-01T05:28:51.834778Z"
    }
   },
   "source": [
    "##  Fix the feature: dayofweek"
   ]
  },
  {
   "cell_type": "code",
   "execution_count": null,
   "metadata": {},
   "outputs": [],
   "source": [
    "dt = datafill\n",
    "dt[['year','month','day', 'dayofweek']].head(10)"
   ]
  },
  {
   "cell_type": "code",
   "execution_count": null,
   "metadata": {},
   "outputs": [],
   "source": [
    "dt = dt.drop(columns=['dayofweek'])\n",
    "dt = dt.dropna(axis=0)\n",
    "dt = dt.drop(columns=['max_aqi_tomorrow'])\n",
    "dt['dow'] = dt.dow.astype('uint8')\n",
    "dt.to_csv('final_data.csv')"
   ]
  }
 ],
 "metadata": {
  "kernelspec": {
   "display_name": "Python 3",
   "language": "python",
   "name": "python3"
  },
  "language_info": {
   "codemirror_mode": {
    "name": "ipython",
    "version": 3
   },
   "file_extension": ".py",
   "mimetype": "text/x-python",
   "name": "python",
   "nbconvert_exporter": "python",
   "pygments_lexer": "ipython3",
   "version": "3.6.7"
  },
  "latex_envs": {
   "LaTeX_envs_menu_present": true,
   "autoclose": false,
   "autocomplete": true,
   "bibliofile": "biblio.bib",
   "cite_by": "apalike",
   "current_citInitial": 1,
   "eqLabelWithNumbers": true,
   "eqNumInitial": 1,
   "hotkeys": {
    "equation": "Ctrl-E",
    "itemize": "Ctrl-I"
   },
   "labels_anchors": false,
   "latex_user_defs": false,
   "report_style_numbering": false,
   "user_envs_cfg": false
  },
  "toc": {
   "base_numbering": 1,
   "nav_menu": {},
   "number_sections": true,
   "sideBar": true,
   "skip_h1_title": false,
   "title_cell": "Table of Contents",
   "title_sidebar": "Contents",
   "toc_cell": false,
   "toc_position": {},
   "toc_section_display": true,
   "toc_window_display": false
  }
 },
 "nbformat": 4,
 "nbformat_minor": 2
}
